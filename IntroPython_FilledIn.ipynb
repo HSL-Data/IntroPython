{
 "cells": [
  {
   "cell_type": "markdown",
   "metadata": {},
   "source": [
    "# Welcome to Intro to Python!\n",
    "**Things we'll cover:**\n",
    "* Simple variables assignment/types\n",
    "* Lists, tuples, dictionaries\n",
    "* Looping\n",
    "* Conditional statements\n",
    "* Functions: built-in and your own\n",
    "\n",
    "\n",
    "\n"
   ]
  },
  {
   "cell_type": "markdown",
   "metadata": {},
   "source": [
    "A few things before getting started. We are currently working in Spyder, a popular IDE for writing python code. This is one option for creating and editing Python files, but there are many other options such as PyCharm or VS Code. We are also working in a `Notebook` which allows us to combine text and python code. We're working with this Notebook locally through `Spyder-Notebook`, but you can also use Jupyter Notebooks in JupterLab, a web-based environment. More informaion on JupyterLab here:  https://jupyter.org/\n",
    "\n",
    "In Notebooks there are `cells` which are containers for either text or code. To execute a cell you can either use the keyboard shortcut `Cntrl-Entr` or use the execute cell button.\n"
   ]
  },
  {
   "cell_type": "code",
   "execution_count": 1,
   "metadata": {},
   "outputs": [
    {
     "name": "stdout",
     "output_type": "stream",
     "text": [
      "3.11.4 | packaged by Anaconda, Inc. | (main, Jul  5 2023, 13:38:37) [MSC v.1916 64 bit (AMD64)]\n",
      "C:\\Users\\ztd3zn\\AppData\\Local\\anaconda3\\envs\\py_workshops\\python.exe\n"
     ]
    }
   ],
   "source": [
    "import sys\n",
    "print(sys.version)\n",
    "print(sys.executable)"
   ]
  },
  {
   "cell_type": "markdown",
   "metadata": {},
   "source": [
    "***\n",
    "## Variables\n",
    "The first thing we are going to discuss is how to store information in variables in Python. We do this by using the `=` symbol. You can store numeric, text, and various other types of values. For now, just run the code below and see what happens."
   ]
  },
  {
   "cell_type": "code",
   "execution_count": 5,
   "metadata": {},
   "outputs": [],
   "source": [
    "# You can use the hashtag to create comments (these lines won't be executed)\n",
    "\n",
    "# storing a numeric value\n",
    "x = 2\n",
    "# storing a text or string value\n",
    "y = 'two'"
   ]
  },
  {
   "cell_type": "markdown",
   "metadata": {},
   "source": [
    "When we execute the above code, the values are stored into two __variables__ called x and y. If you want to see what variables you have created, you can look at the Variable Explorer pane in the upper right window.\n",
    "\n",
    "As you probably noticed, we stored two different types of information. In the x variable, we stored a numeric value and in the y variable we stored text. In Python, there various different attribute types. For numeric values, there are `integers` (whole numbers) and `floats` (decimal values).  Text values are called `strings`. There are also `booleans`  which represent `true`  or  `false`. Booleans are useful in conditionals which can control the flow of your code (but more on that later).   "
   ]
  },
  {
   "cell_type": "code",
   "execution_count": 6,
   "metadata": {},
   "outputs": [],
   "source": [
    "# int type\n",
    "int1 = 5\n",
    "\n",
    "# float type\n",
    "float1 = 4.5\n",
    "\n",
    "# string type\n",
    "string1 = 'Hello World'\n",
    "\n",
    "# boolean type\n",
    "b1 = True\n",
    "b2 = 5>4"
   ]
  },
  {
   "cell_type": "markdown",
   "metadata": {},
   "source": [
    "Now try it for yourself. In the below code cell, make the following variables:\n",
    "- create another int in int2\n",
    "- create another float in  float2\n",
    "- create another string in string2\n",
    "- create a boolean that evaluates to false in b3"
   ]
  },
  {
   "cell_type": "code",
   "execution_count": 1,
   "metadata": {},
   "outputs": [],
   "source": [
    "# Create your variables here:\n",
    "int2 =  7\n",
    "float2 =  7.2\n",
    "string2 =  'Cat'\n",
    "b3 =  'cat' == 'Cat'"
   ]
  },
  {
   "cell_type": "markdown",
   "metadata": {},
   "source": [
    "***\n",
    "## Collections of items"
   ]
  },
  {
   "cell_type": "markdown",
   "metadata": {},
   "source": [
    "Not only can you store individual values, but you can store lists or sequences of values. In Python you define a list with `[]` and separate items with commas. Items can be added or removed from a list. Because lists can be updated, they are called `mutable`.   \n",
    "\n",
    "If we want to add items to our list, we can use the `.append()` method. Similarly to remove an item, we can use the `.remove()` method. There are additional ways to append and remove items from lists. You can review the built-in methods for lists here: https://www.w3schools.com/python/python_ref_list.asp. You can access built-in methods by calling your list followed by a `.method_name()`.  "
   ]
  },
  {
   "cell_type": "code",
   "execution_count": 7,
   "metadata": {},
   "outputs": [
    {
     "name": "stdout",
     "output_type": "stream",
     "text": [
      "Original list:  [10, 20, 30, 40]\n",
      "Appended to list:  [10, 20, 30, 40, 50]\n",
      "Removed from list:  [20, 30, 40, 50]\n"
     ]
    }
   ],
   "source": [
    "# creating a list\n",
    "list1 = [10, 20, 30, 40]\n",
    "print(\"Original list: \", list1)\n",
    "\n",
    "# appending to a list\n",
    "list1.append(50)\n",
    "print(\"Appended to list: \", list1)\n",
    "\n",
    "# removing from a list\n",
    "list1.remove(10)\n",
    "print(\"Removed from list: \", list1)\n"
   ]
  },
  {
   "cell_type": "markdown",
   "metadata": {},
   "source": [
    "There is a similar data type called a `tuple` which like a list stores multiple values, but once it has been created it can't be updated, making it `immutable`. Because tuples are immutable, they use less memory and processing power. Tuples are defined with `()`."
   ]
  },
  {
   "cell_type": "code",
   "execution_count": 8,
   "metadata": {},
   "outputs": [
    {
     "name": "stdout",
     "output_type": "stream",
     "text": [
      "Original tuple:  (10, 20, 30, 40)\n"
     ]
    },
    {
     "ename": "AttributeError",
     "evalue": "'tuple' object has no attribute 'append'",
     "output_type": "error",
     "traceback": [
      "Traceback \u001b[1;36m(most recent call last)\u001b[0m:\n",
      "\u001b[1;36m  Cell \u001b[1;32mIn[8], line 6\u001b[1;36m\n\u001b[1;33m    tuple1.append(50)\u001b[1;36m\n",
      "\u001b[1;31mAttributeError\u001b[0m\u001b[1;31m:\u001b[0m 'tuple' object has no attribute 'append'\n"
     ]
    }
   ],
   "source": [
    "# creating a tuple\n",
    "tuple1 = (10, 20, 30, 40)\n",
    "print(\"Original tuple: \", tuple1)\n",
    "\n",
    "# attempting to add to a tuple\n",
    "tuple1.append(50)"
   ]
  },
  {
   "cell_type": "markdown",
   "metadata": {},
   "source": [
    "In the above code, we created a tuple. When we tried to use the .append() method, we recieved an error. That is because tuples are immutable and do not have methods to append or remove items. Tuples only have two built-in functions `.count()` and `.index()`. More details on these methods can be found here: https://www.w3schools.com/python/python_ref_tuple.asp."
   ]
  },
  {
   "cell_type": "markdown",
   "metadata": {},
   "source": [
    "### Indexing\n",
    "After creating your list or tuple, you may need to access one of the individual items. One way to do this is by using the `index` of an item. The index refers to the item's position within the the list or tuple. In Python, the index starts at 0 instead of 1.   "
   ]
  },
  {
   "cell_type": "code",
   "execution_count": 9,
   "metadata": {},
   "outputs": [
    {
     "name": "stdout",
     "output_type": "stream",
     "text": [
      "First item from list1:  10\n",
      "First item from tuple1:  10\n"
     ]
    }
   ],
   "source": [
    "# creating a list\n",
    "list1 =   [10, 20, 30, 40]\n",
    "# Indeces:  0,  1,  2,  3\n",
    "\n",
    "# accessing the first item in the list\n",
    "print(\"First item from list1: \", list1[0])\n",
    "\n",
    "# creating a tuple\n",
    "tuple1 = (10, 20, 30, 40)\n",
    "# Indeces:  0,  1,  2,  3\n",
    "\n",
    "# accessing the first item in the list\n",
    "print(\"First item from tuple1: \", tuple1[0])\n",
    "\n"
   ]
  },
  {
   "cell_type": "markdown",
   "metadata": {},
   "source": [
    "If you would like to find the index of a particular item, you can use the `.index()` function."
   ]
  },
  {
   "cell_type": "code",
   "execution_count": 10,
   "metadata": {},
   "outputs": [
    {
     "name": "stdout",
     "output_type": "stream",
     "text": [
      "The index of 20 is:  1\n",
      "The index of 20 is:  1\n"
     ]
    }
   ],
   "source": [
    "# creating a list\n",
    "list1 =   [10, 20, 30, 40]\n",
    "\n",
    "print(\"The index of 20 is: \", list1.index(20))\n",
    "\n",
    "# What happens if there's more than one of the same value?\n",
    "# Let's find out\n",
    "\n",
    "# append another value of 20\n",
    "list1.append(20)\n",
    "print(\"The index of 20 is: \", list1.index(20))\n",
    "\n",
    "# If there's more than one of the same value, the .index() will return the index of the first instance\n"
   ]
  },
  {
   "cell_type": "markdown",
   "metadata": {},
   "source": [
    "Now try it for yourself. In the below code cell, complete the following tasks:\n",
    "- create a list called your_list with the following values: 'apple', 'peach', 'strawberry' \n",
    "- print out the second value in your list\n",
    "- use the .index() method to find the index of 'strawberry'"
   ]
  },
  {
   "cell_type": "code",
   "execution_count": 2,
   "metadata": {},
   "outputs": [
    {
     "name": "stdout",
     "output_type": "stream",
     "text": [
      "peach\n"
     ]
    },
    {
     "data": {
      "text/plain": [
       "2"
      ]
     },
     "execution_count": 2,
     "metadata": {},
     "output_type": "execute_result"
    }
   ],
   "source": [
    "# create your list\n",
    "your_list = ['apple', 'peach', 'strawberry']\n",
    "\n",
    "# print out the second value\n",
    "print(your_list[1])\n",
    "\n",
    "#find the index of strawberry\n",
    "your_list.index('strawberry')\n"
   ]
  },
  {
   "cell_type": "markdown",
   "metadata": {},
   "source": [
    "### Looping\n",
    "Another way to access the individual elements of list or tuple is by looping. We'll start with a `for loop` which follows this basic format: <br>\n",
    "`for item in list:`<br>\n",
    "&nbsp;&nbsp;&nbsp;&nbsp;&nbsp;&nbsp;&nbsp;`do_something(item)`\n",
    "\n",
    "For loops will progress until they reach the end of the object they're iterating through."
   ]
  },
  {
   "cell_type": "code",
   "execution_count": 15,
   "metadata": {},
   "outputs": [
    {
     "name": "stdout",
     "output_type": "stream",
     "text": [
      "80\n",
      "80\n",
      "80\n",
      "80\n"
     ]
    }
   ],
   "source": [
    "# creating a list\n",
    "list1 =   [10, 20, 30, 40]\n",
    "\n",
    "# 'item' could be any word. Writing: for number in list1 would have the same effect \n",
    "for item in list1:\n",
    "    new_val = item * 2\n",
    "    print(new_val)"
   ]
  },
  {
   "cell_type": "markdown",
   "metadata": {},
   "source": [
    "There are also `while loops`. While loops will continue iterating until a specified condition is met. They follow this format: \n",
    "\n",
    "`while condition:` <br>\n",
    "&nbsp;&nbsp;&nbsp;&nbsp;&nbsp;&nbsp;&nbsp;`do_something()`\n",
    "\n",
    "You need to be careful that the condition you specified will be met because if not you'll be stuck in an infinite loop."
   ]
  },
  {
   "cell_type": "code",
   "execution_count": 16,
   "metadata": {},
   "outputs": [
    {
     "name": "stdout",
     "output_type": "stream",
     "text": [
      "0\n",
      "20\n",
      "40\n",
      "60\n"
     ]
    }
   ],
   "source": [
    "# value\n",
    "new_value = 0\n",
    "\n",
    "while new_value <=60: # condition\n",
    "    print(new_value)\n",
    "    new_value +=20   # updating value"
   ]
  },
  {
   "cell_type": "markdown",
   "metadata": {},
   "source": [
    "Similar to how while loops are based on a specific condition being met, you can include conditional statements anywhere in your code to control the flow of your script. Conditional statements will start with `if` followed by either `elif` (else if) or `else`. You use `elif` when there's multiple conditions you want to check. Such a statment may look like this: <br>\n",
    "`if condition1:`<br>\n",
    "&nbsp;&nbsp;&nbsp;&nbsp;&nbsp;&nbsp;&nbsp;`do_something()`<br>\n",
    "`elif condition2:`<br>\n",
    "&nbsp;&nbsp;&nbsp;&nbsp;&nbsp;&nbsp;&nbsp;`do_something_else()`<br>\n",
    "`else:`<br>\n",
    "&nbsp;&nbsp;&nbsp;&nbsp;&nbsp;&nbsp;&nbsp;`catch_all()`\n"
   ]
  },
  {
   "cell_type": "code",
   "execution_count": 18,
   "metadata": {},
   "outputs": [
    {
     "name": "stdout",
     "output_type": "stream",
     "text": [
      "Value is positive\n"
     ]
    }
   ],
   "source": [
    "x = 0\n",
    "\n",
    "if x > 0:\n",
    "    print(\"Value is positive\")\n",
    "elif x <0:\n",
    "    print(\"Value is negative\")\n",
    "else:\n",
    "    print(\"Value is 0\")\n",
    "\n"
   ]
  },
  {
   "cell_type": "markdown",
   "metadata": {},
   "source": [
    "Now try it for yourself. In the below code cell, complete the following tasks:\n",
    "- create a variable called 'counter' and set it to 0\n",
    "- write a while loop that continues until 'counter' is greater than 10\n",
    "- within the while loop print out 'counter', but only once 'counter' is greater than 5\n",
    " "
   ]
  },
  {
   "cell_type": "code",
   "execution_count": 6,
   "metadata": {},
   "outputs": [
    {
     "name": "stdout",
     "output_type": "stream",
     "text": [
      "6\n",
      "7\n",
      "8\n",
      "9\n",
      "10\n"
     ]
    }
   ],
   "source": [
    "# creater counter\n",
    "counter = 0\n",
    "\n",
    "# while loop\n",
    "while counter < 11: # what condition needs to be met to stop?\n",
    "\n",
    "    # print counter once it's greater than 5\n",
    "    if counter >5:\n",
    "        print(counter)\n",
    "    # how will the condition in the while statement be met\n",
    "    counter += 1\n"
   ]
  },
  {
   "cell_type": "markdown",
   "metadata": {},
   "source": [
    "## Dictionaries\n",
    "Another important data structure in Python are `dictionaries`. They are useful for mapping different pieces of information together. Dictionaries are made of key-value pairs and are defined using `{}` and `:` to separate the key value pairs. They generally look like this <br> `dictionary = {key 1: value 1, key 2 : value 2}`  \n",
    "\n",
    "You use `[]` to access the value of a specific key in a dictionary like this `dictionary[key]`."
   ]
  },
  {
   "cell_type": "code",
   "execution_count": 19,
   "metadata": {},
   "outputs": [
    {
     "name": "stdout",
     "output_type": "stream",
     "text": [
      "{'Sarah': 25, 'Joe': 27, 'Tori': 26}\n",
      "Sarah is 25 years old.\n"
     ]
    }
   ],
   "source": [
    "# dictionary of people and ages\n",
    "dict1 = {'Sarah': 25, 'Joe' : 27, 'Tori' : 26}\n",
    "print(dict1)\n",
    "\n",
    "print(\"Sarah is\", dict1['Sarah'], \"years old.\")\n"
   ]
  },
  {
   "cell_type": "markdown",
   "metadata": {},
   "source": [
    "Once a dictionary is created, you can add new entries as folows: `dictionary[new_key] = new_value`. You could also use the `.update()` function as follows: `dictionary.update({new_key : new_value})`. When creating a dictionary, each key must be unique. If you try to add a new entry with a pre-existing key, you will only update that entry. "
   ]
  },
  {
   "cell_type": "code",
   "execution_count": 20,
   "metadata": {},
   "outputs": [
    {
     "name": "stdout",
     "output_type": "stream",
     "text": [
      "Original dictionary:  {'Sarah': 25, 'Joe': 27, 'Tori': 26}\n",
      "Updated dictionary:  {'Sarah': 25, 'Joe': 27, 'Tori': 26, 'Michael': 25, 'Sally': 27}\n",
      "Updated Sarah:  {'Sarah': 26, 'Joe': 27, 'Tori': 26, 'Michael': 25, 'Sally': 27}\n"
     ]
    }
   ],
   "source": [
    "# dictionary of people and ages\n",
    "dict1 = {'Sarah': 25, 'Joe' : 27, 'Tori' : 26}\n",
    "print(\"Original dictionary: \", dict1)\n",
    "\n",
    "# adding a new entry\n",
    "dict1['Michael'] = 25\n",
    "dict1.update({'Sally': 27})\n",
    "print(\"Updated dictionary: \", dict1)\n",
    "\n",
    "# trying to add another Sarah\n",
    "dict1.update({'Sarah': 26})\n",
    "print(\"Updated Sarah: \", dict1)\n"
   ]
  },
  {
   "cell_type": "markdown",
   "metadata": {},
   "source": [
    "You can also iterate through dictionaries with for loops. To do so, you will need to call one of these built-in functions: `.keys()` (iterate through the keys), `.values()` (iterate through the values), `.items()` (iterate through both keys and values). If you use the `.items()` function, it will return a tuple of the key-value pair. It's basic structure looks like this <br>\n",
    "\n",
    "`for key, value in dictionary.items():` <br>\n",
    "&nbsp;&nbsp;&nbsp;&nbsp;&nbsp;&nbsp;&nbsp;`print(key, \":\", value)`"
   ]
  },
  {
   "cell_type": "code",
   "execution_count": 21,
   "metadata": {},
   "outputs": [
    {
     "name": "stdout",
     "output_type": "stream",
     "text": [
      "Sarah is 25 years old\n",
      "Joe is 27 years old\n",
      "Tori is 26 years old\n"
     ]
    }
   ],
   "source": [
    "# dictionary of people and ages\n",
    "dict1 = {'Sarah': 25, 'Joe' : 27, 'Tori' : 26}\n",
    "\n",
    "for name, age in dict1.items():\n",
    "    print(name, \"is\", age, \"years old\")"
   ]
  },
  {
   "cell_type": "markdown",
   "metadata": {},
   "source": [
    "Dictionaries are paritcularly cool because you can nest information together. For example, we could expand our dict1 dictionary to contain additional information on our individuals such as city of residance and contact information."
   ]
  },
  {
   "cell_type": "code",
   "execution_count": 24,
   "metadata": {},
   "outputs": [
    {
     "name": "stdout",
     "output_type": "stream",
     "text": [
      "Sarah lives in Charlottesville\n",
      "Joe lives in Richmond\n",
      "Tori lives in Staunton\n"
     ]
    }
   ],
   "source": [
    "# dictionary of dictionaries\n",
    "dict1_v2 = {'Sarah': {'age' : 25, 'city' : \"Charlottesville\", 'phone_number' : ['540-123-2345', '434-987-8765']}, \n",
    "            'Joe' : {'age' : 27, 'city' : \"Richmond\", 'phone_number' : ['123-345-5467']}, \n",
    "            'Tori' : {'age' : 26, 'city' : \"Staunton\", \"phone_number\": ['456-678-9823']}}\n",
    "\n",
    "# how to access info in nexted dictionary\n",
    "for name in dict1_v2.keys():\n",
    "    city = dict1_v2[name]['city'] # this assumes 'city' key will always be present. \n",
    "    print(name, \"lives in\", city)\n",
    "\n"
   ]
  },
  {
   "cell_type": "code",
   "execution_count": 26,
   "metadata": {},
   "outputs": [
    {
     "name": "stdout",
     "output_type": "stream",
     "text": [
      "Output of calling .get() with a key that doesn't exist:  None\n"
     ]
    }
   ],
   "source": [
    "# dictionary of dictionaries\n",
    "dict1_v2 = {'Sarah': {'age' : 25, 'city' : \"Charlottesville\", 'phone_number' : ['540-123-2345', '434-987-8765']}, \n",
    "            'Joe' : {'age' : 27, 'city' : \"Richmond\", 'phone_number' : ['123-345-5467']}, \n",
    "            'Tori' : {'age' : 26, 'city' : \"Staunton\", \"phone_number\": ['456-678-9823']}}\n",
    "\n",
    "# if you try to access a key that doesn't exist you will get a KeyError message \n",
    "dict1_v2['Age']\n",
    "\n",
    "# if you want to avoid these error messages you can use the .get() method instead\n",
    "# instead it will return None\n",
    "print(\"Output of calling .get() with a key that doesn't exist: \", dict1_v2.get('Age'))"
   ]
  },
  {
   "cell_type": "markdown",
   "metadata": {},
   "source": [
    "***\n",
    "## Functions\n",
    "Functions are a way to write reusable code. We have already been using functions above like the `print()` function. Typically you call a function with the function name followed by `()`. There are numerous built-in functions already in Python. We'll use a few below. "
   ]
  },
  {
   "cell_type": "code",
   "execution_count": 27,
   "metadata": {},
   "outputs": [
    {
     "name": "stdout",
     "output_type": "stream",
     "text": [
      "The sum of list1 is: 100\n",
      "The max of list1 is: 40\n"
     ]
    }
   ],
   "source": [
    "# creating a list\n",
    "list1 = [10, 20, 30, 40]\n",
    "\n",
    "# calculate the sum of list1\n",
    "print(\"The sum of list1 is:\", sum(list1))\n",
    "\n",
    "# calculate the max of list1\n",
    "print(\"The max of list1 is:\", max(list1))\n"
   ]
  },
  {
   "cell_type": "markdown",
   "metadata": {},
   "source": [
    "Not only can you use built-in functions, but you can also write your own. To write a function, you use the `def` keyword followed by the name of your function. It will typically look like this:\n",
    "\n",
    "`def your_function(arguments):`<br>\n",
    "&nbsp;&nbsp;&nbsp;&nbsp;&nbsp;&nbsp;&nbsp;`some code` <br>\n",
    "&nbsp;&nbsp;&nbsp;&nbsp;&nbsp;&nbsp;&nbsp;`return something` <br>\n",
    "\n",
    "We can turn our conditional statement from above into a function."
   ]
  },
  {
   "cell_type": "code",
   "execution_count": 28,
   "metadata": {},
   "outputs": [
    {
     "name": "stdout",
     "output_type": "stream",
     "text": [
      "Value is negative\n",
      "Value is positive\n",
      "Value is 0\n"
     ]
    }
   ],
   "source": [
    "def numCheck(x):\n",
    "    if x > 0:\n",
    "        return \"Value is positive\"\n",
    "    elif x <0:\n",
    "        return \"Value is negative\"\n",
    "    else:\n",
    "        return \"Value is 0\"\n",
    "    \n",
    "\n",
    "print(numCheck(-4))\n",
    "print(numCheck(4))\n",
    "print(numCheck(0))"
   ]
  },
  {
   "cell_type": "markdown",
   "metadata": {},
   "source": [
    "Another simple function to add 5 to a number:"
   ]
  },
  {
   "cell_type": "code",
   "execution_count": 14,
   "metadata": {},
   "outputs": [
    {
     "name": "stdout",
     "output_type": "stream",
     "text": [
      "11\n",
      "5.5\n"
     ]
    }
   ],
   "source": [
    "def add_5 (number):\n",
    "    return number + 5\n",
    "\n",
    "print(add_5(6))\n",
    "print(add_5(0.5))"
   ]
  },
  {
   "cell_type": "markdown",
   "metadata": {},
   "source": [
    "Now try it for yourself. In the below code cell, complete the following tasks:\n",
    "- write a function named 'hello' that takes a name as an agrument and prints out 'Hello name!'\n",
    "- test your function with your name"
   ]
  },
  {
   "cell_type": "code",
   "execution_count": 9,
   "metadata": {},
   "outputs": [
    {
     "name": "stdout",
     "output_type": "stream",
     "text": [
      "Hello Brenna!\n"
     ]
    }
   ],
   "source": [
    "def hello(name): # don't forget to add the argument\n",
    "    print('Hello ', name, '!', sep = '')\n",
    "\n",
    "hello('Brenna')\n",
    "    "
   ]
  },
  {
   "cell_type": "markdown",
   "metadata": {},
   "source": [
    "***\n",
    "## Make a game\n",
    "Let's bring what we've learned together and make a number guessing game. \n",
    "It will do the following things\n",
    "- Generate a random integers\n",
    "- request input from the user\n",
    "- provide feedback on whether the input was too high or too low\n",
    "- continue until the right number is provided\n"
   ]
  },
  {
   "cell_type": "code",
   "execution_count": 30,
   "metadata": {},
   "outputs": [
    {
     "name": "stdin",
     "output_type": "stream",
     "text": [
      "Guess a number: 50\n"
     ]
    },
    {
     "name": "stdout",
     "output_type": "stream",
     "text": [
      "Too low, guess higher\n"
     ]
    },
    {
     "name": "stdin",
     "output_type": "stream",
     "text": [
      "Try again:  75\n"
     ]
    },
    {
     "name": "stdout",
     "output_type": "stream",
     "text": [
      "Too high, guess lower\n"
     ]
    },
    {
     "name": "stdin",
     "output_type": "stream",
     "text": [
      "Try again:  57\n"
     ]
    },
    {
     "name": "stdout",
     "output_type": "stream",
     "text": [
      "Too low, guess higher\n"
     ]
    },
    {
     "name": "stdin",
     "output_type": "stream",
     "text": [
      "Try again:  65\n"
     ]
    },
    {
     "name": "stdout",
     "output_type": "stream",
     "text": [
      "Too high, guess lower\n"
     ]
    },
    {
     "name": "stdin",
     "output_type": "stream",
     "text": [
      "Try again:  60\n"
     ]
    },
    {
     "name": "stdout",
     "output_type": "stream",
     "text": [
      "You got it! The right answer was 60\n"
     ]
    }
   ],
   "source": [
    "# importing random\n",
    "import random\n",
    "\n",
    "# generating a random int between 0 and 100\n",
    "num = random.randint(0,100)\n",
    "\n",
    "# requesting user input\n",
    "your_guess = int(input(\"Guess a number:\"))\n",
    "\n",
    "# while you have not guessed correctly\n",
    "while your_guess != num:\n",
    "    # give feedback on whether the guess was too high or too low\n",
    "    if your_guess < num:\n",
    "        print(\"Too low, guess higher\")\n",
    "    elif your_guess > num:\n",
    "        print(\"Too high, guess lower\")\n",
    "\n",
    "    # request user input again\n",
    "    your_guess = int(input(\"Try again: \")) \n",
    "\n",
    "print(\"You got it! The right answer was\", your_guess)"
   ]
  }
 ],
 "metadata": {
  "kernelspec": {
   "display_name": "Python 3 (Spyder)",
   "language": "python3",
   "name": "python3"
  },
  "language_info": {
   "codemirror_mode": {
    "name": "ipython",
    "version": 3
   },
   "file_extension": ".py",
   "mimetype": "text/x-python",
   "name": "python",
   "nbconvert_exporter": "python",
   "pygments_lexer": "ipython3",
   "version": "3.11.4"
  }
 },
 "nbformat": 4,
 "nbformat_minor": 4
}
