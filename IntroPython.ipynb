{
 "cells": [
  {
   "cell_type": "markdown",
   "metadata": {},
   "source": [
    "# Welcome to Intro to Python!\n",
    "## Things we'll cover:\n",
    "* Simple variables assignment/types\n",
    "* Lists, tuples, dictionaries\n",
    "* Looping\n",
    "* Conditional statements\n",
    "* Functions: built-in and your own\n",
    "\n",
    "\n",
    "\n"
   ]
  },
  {
   "cell_type": "markdown",
   "metadata": {},
   "source": [
    "# Preliminaries: \n",
    "---\n",
    "\n",
    "A few things before getting started. We are currently working in JupyterLab, a popular IDE for writing python code. This is one option for creating and editing Python files, but there are many other options such as Spyder, PyCharm or VS Code. \n",
    "\n",
    "## JupyterLab IDE\n",
    "\n",
    "**The different panes**\n",
    "\n",
    "- Left sidebar: Contains file browser, table of contents, and other tabs\n",
    "- Main work area: Center pane where your script and other documents can be arranged\n",
    "- Python console: To open: Left sidebar -> Running Terminals and Kernel -> Right click Console -> New Console.\n",
    "    - Run code: shift-enter\n",
    "    - Code written here will not be saved\n",
    "- Variable Explorer: Where your objects/variables will appear (we'll add this together)\n",
    "\n",
    "More information: https://jupyterlab.readthedocs.io/en/4.2.x/getting_started/overview.html\n",
    "\n",
    "\n",
    "**Changing the appearance**\n",
    "\n",
    "You can move panes around or re-size them. I will stick to the defaults, so we are all looking at a similar format. You can also change the color pallete of JupyterLab. By default we are in a light mode, but we can choose something darker. To do this go to Settings -> Theme. \n",
    "-> Appearances.  \n",
    "\n",
    "\n",
    "## Notebooks\n",
    "We are also working in a `Notebook` which allows us to combine text and python code. We're working with this Notebook through JupyterLab, a web-based environment.\n",
    "\n",
    "**Running cells** \n",
    "\n",
    "In Notebooks there are `cells` which are containers for either text or code. To execute a cell you can either use the keyboard shortcut `Cntrl-Entr` or use the execute cell button (play button at the top).\n"
   ]
  },
  {
   "cell_type": "code",
   "execution_count": null,
   "metadata": {},
   "outputs": [],
   "source": [
    "# cell example\n",
    "\n",
    "# importing a library\n",
    "import sys\n",
    "# printing out the version of python being used and the path to the executable\n",
    "print(sys.version)\n",
    "print(sys.executable)"
   ]
  },
  {
   "cell_type": "markdown",
   "metadata": {},
   "source": [
    "## Variable Inspector\n",
    "\n",
    "By default, JupyterLab does not come with a variable explorer/inspector. Being able to see the variables you have created and how they change throughout the script can be very helpful, so let's install a variables inspector. \n",
    "\n",
    "Once installed, refresh your browser. Then right click in your notebook and select 'Open Variable Inspector'. You can pull the Variable Inspector to the right, so that it is next to your notebook script. \n",
    "\n",
    "More details on this package can be found here: https://github.com/jupyterlab-contrib/jupyterlab-variableInspector"
   ]
  },
  {
   "cell_type": "code",
   "execution_count": null,
   "metadata": {},
   "outputs": [],
   "source": [
    "!conda install --yes ipywidgets "
   ]
  },
  {
   "cell_type": "code",
   "execution_count": null,
   "metadata": {},
   "outputs": [],
   "source": [
    "!conda install --yes conda-forge::lckr_jupyterlab_variableinspector"
   ]
  },
  {
   "cell_type": "markdown",
   "metadata": {},
   "source": [
    "## Variables\n",
    "***\n",
    "The first thing we are going to discuss is how to store information in variables in Python. We do this by using the `=` symbol. You can store numeric, text, and various other types of values. For now, just run the code below and see what happens."
   ]
  },
  {
   "cell_type": "code",
   "execution_count": null,
   "metadata": {},
   "outputs": [],
   "source": [
    "# You can use the hashtag to create comments (these lines won't be executed)\n",
    "\n",
    "# storing a numeric value\n",
    "x = 2\n",
    "# storing a text or string value\n",
    "y = 'two'"
   ]
  },
  {
   "cell_type": "markdown",
   "metadata": {},
   "source": [
    "When we execute the above code, the values are stored into two __variables__ called x and y. If you want to see what variables you have created, you can look at the Variable Explorer pane in the upper right window.\n",
    "\n",
    "As you probably noticed, we stored two different types of information. In the x variable, we stored a numeric value and in the y variable we stored text. In Python, there various different attribute types. For numeric values, there are `integers` (whole numbers) and `floats` (decimal values).  Text values are called `strings`. There are also `booleans`  which represent `true`  or  `false`. Booleans are useful in conditionals which can control the flow of your code (but more on that later).   "
   ]
  },
  {
   "cell_type": "code",
   "execution_count": null,
   "metadata": {},
   "outputs": [],
   "source": [
    "# int type\n",
    "\n",
    "\n",
    "# float type\n",
    "\n",
    "\n",
    "# string type\n",
    "\n",
    "\n",
    "# boolean type\n"
   ]
  },
  {
   "cell_type": "markdown",
   "metadata": {},
   "source": [
    "Now try it for yourself. In the below code cell, make the following variables. You can double check that your variables have been created in the variable explorer.\n",
    "- create another int in int2\n",
    "- create another float in  float2\n",
    "- create another string in string2\n",
    "- create a boolean that evaluates to false in b3"
   ]
  },
  {
   "cell_type": "code",
   "execution_count": null,
   "metadata": {},
   "outputs": [],
   "source": [
    "# Create your variables here:\n",
    "int2 = \n",
    "float2 = \n",
    "string2 = \n",
    "b3 = "
   ]
  },
  {
   "cell_type": "markdown",
   "metadata": {},
   "source": [
    "## Collections of items\n",
    "***"
   ]
  },
  {
   "cell_type": "markdown",
   "metadata": {},
   "source": [
    "Not only can you store individual values, but you can store lists or sequences of values. In Python you define a list with `[]` and separate items with commas. Items can be added or removed from a list. Because lists can be updated, they are called `mutable`.   \n",
    "\n",
    "If we want to add items to our list, we can use the `.append()` method. Similarly to remove an item, we can use the `.remove()` method. There are additional ways to append and remove items from lists. You can review the built-in methods for lists here: https://www.w3schools.com/python/python_ref_list.asp. You can access built-in methods by calling your list followed by a `.method_name()`.  "
   ]
  },
  {
   "cell_type": "code",
   "execution_count": null,
   "metadata": {},
   "outputs": [],
   "source": [
    "# creating a list of numbers\n",
    "\n",
    "\n",
    "# creating a list of strings\n",
    "\n",
    "\n",
    "# appending to a list\n",
    "\n",
    "\n",
    "# removing from a list\n",
    "\n",
    "\n",
    "# if we want to see how the list changes, we will need to call the object/print it out"
   ]
  },
  {
   "cell_type": "markdown",
   "metadata": {},
   "source": [
    "There is a similar data type called a `tuple` which like a list stores multiple values, but once it has been created it can't be updated, making it `immutable`. Because tuples are immutable, they use less memory and processing power. Tuples are defined with `()`."
   ]
  },
  {
   "cell_type": "code",
   "execution_count": null,
   "metadata": {},
   "outputs": [],
   "source": [
    "# creating a tuple\n",
    "\n",
    "\n",
    "# attempting to add to a tuple\n"
   ]
  },
  {
   "cell_type": "markdown",
   "metadata": {},
   "source": [
    "In the above code, we created a tuple. When we tried to use the .append() method, we recieved an error. That is because tuples are immutable and do not have methods to append or remove items. Tuples only have two built-in functions `.count()` and `.index()`. More details on these methods can be found here: https://www.w3schools.com/python/python_ref_tuple.asp."
   ]
  },
  {
   "cell_type": "markdown",
   "metadata": {},
   "source": [
    "### Indexing\n",
    "After creating your list or tuple, you may need to access one of the individual items. One way to do this is by using the `index` of an item. The index refers to the item's position within the the list or tuple. In Python, the index starts at 0 instead of 1.\n",
    "\n",
    "You can access an indivdual item in a list or tuple, by calling the name of the object followed by `[]` with the index number inside like this: `objectname[1]`"
   ]
  },
  {
   "cell_type": "code",
   "execution_count": null,
   "metadata": {},
   "outputs": [],
   "source": [
    "# creating a list\n",
    "list1 =   [10, 20, 30, 40]\n",
    "# Indices:  0,  1,  2,  3\n",
    "\n",
    "# accessing the first item in the list\n",
    "\n",
    "# accessing the last item in the list \n",
    "\n",
    "# accessing the 2nd and third\n",
    "# when we create a slice the fist number is inclusive and the last number is exclusive\n",
    "print(list1[])\n",
    "\n",
    "# creating a tuple\n",
    "tuple1 = (10, 20, 30, 40)\n",
    "# Indeces:  0,  1,  2,  3\n",
    "\n",
    "# accessing the first item in the list\n",
    "\n",
    "\n"
   ]
  },
  {
   "cell_type": "markdown",
   "metadata": {},
   "source": [
    "If you would like to find the index of a particular item, you can use the `.index()` function."
   ]
  },
  {
   "cell_type": "code",
   "execution_count": null,
   "metadata": {},
   "outputs": [],
   "source": [
    "# creating a list\n",
    "list1 =   [10, 20, 30, 40]\n",
    "\n",
    "# Find the index of value 20\n",
    "\n",
    "# What happens if there's more than one of the same value?\n",
    "# Let's find out\n",
    "\n",
    "# append another value of 20\n",
    "\n",
    "\n",
    "# If there's more than one of the same value, the .index() will return the index of the first instance\n"
   ]
  },
  {
   "cell_type": "markdown",
   "metadata": {},
   "source": [
    "Now try it for yourself. In the below code cell, complete the following tasks:\n",
    "- create a list called your_list with the following values: 'apple', 'peach', 'strawberry' \n",
    "- print out the second value in your list\n",
    "- use the .index() method to find the index of 'strawberry'"
   ]
  },
  {
   "cell_type": "code",
   "execution_count": 3,
   "metadata": {},
   "outputs": [
    {
     "ename": "SyntaxError",
     "evalue": "invalid syntax (2861275427.py, line 2)",
     "output_type": "error",
     "traceback": [
      "\u001b[1;36m  Cell \u001b[1;32mIn[3], line 2\u001b[1;36m\u001b[0m\n\u001b[1;33m    your_list =\u001b[0m\n\u001b[1;37m                ^\u001b[0m\n\u001b[1;31mSyntaxError\u001b[0m\u001b[1;31m:\u001b[0m invalid syntax\n"
     ]
    }
   ],
   "source": [
    "# create your list\n",
    "your_list = \n",
    "\n",
    "# print out the second value\n",
    "print()\n",
    "\n",
    "#find the index of strawberry\n",
    "\n",
    "# what do you get if your run the following code?\n",
    "# Put your answer in the chat\n",
    "print(your_list[1][0])"
   ]
  },
  {
   "cell_type": "markdown",
   "metadata": {},
   "source": [
    "## Looping\n",
    "***\n",
    "\n",
    "Another way to access the individual elements of list or tuple is by looping. We'll start with a `for loop` which follows this basic format: <br>\n",
    "`for item in list:`<br>\n",
    "&nbsp;&nbsp;&nbsp;&nbsp;&nbsp;&nbsp;&nbsp;`do_something(item)`\n",
    "\n",
    "For loops will progress until they reach the end of the object they're iterating through."
   ]
  },
  {
   "cell_type": "code",
   "execution_count": null,
   "metadata": {},
   "outputs": [],
   "source": [
    "# creating a list\n",
    "list1 = [10, 20, 30, 40]\n",
    "\n",
    "# 'item' could be any word. Writing: for number in list1 would have the same effect \n"
   ]
  },
  {
   "cell_type": "markdown",
   "metadata": {},
   "source": [
    "Python is sensitive to indentation to group blocks of statements together. Most IDE's should automatically indent for you, but if your indentation gets messed up, your code won't run."
   ]
  },
  {
   "cell_type": "code",
   "execution_count": null,
   "metadata": {},
   "outputs": [],
   "source": [
    "# This won't run because it doesn't have proper indentation\n",
    "for item in list1:\n",
    "new_val = item * 2\n",
    "print(new_val)\n"
   ]
  },
  {
   "cell_type": "markdown",
   "metadata": {},
   "source": [
    "There are also `while loops`. While loops will continue iterating until a specified condition is met. They follow this format: \n",
    "\n",
    "`while condition:` <br>\n",
    "&nbsp;&nbsp;&nbsp;&nbsp;&nbsp;&nbsp;&nbsp;`do_something()`\n",
    "\n",
    "You need to be careful that the condition you specified will be met because if not you'll be stuck in an infinite loop. If you do accidentally create an infinite loop, you can restart the kernel by going to the Kernel menu and selecting `Restart Kernel`  \n",
    "\n"
   ]
  },
  {
   "cell_type": "markdown",
   "metadata": {},
   "source": [
    "### Conditional statements\n",
    "\n",
    "Before testing out while loops, we'll first review our options for conditional statements.\n",
    "\n",
    "You can include conditional statements anywhere in your code to control the flow of your script. Conditional statements will start with `if` followed by either `elif` (else if) or `else`. You use `elif` when there's multiple conditions you want to check. Such a statment may look like this: <br>\n",
    "`if condition1:`<br>\n",
    "&nbsp;&nbsp;&nbsp;&nbsp;&nbsp;&nbsp;&nbsp;`do_something()`<br>\n",
    "`elif condition2:`<br>\n",
    "&nbsp;&nbsp;&nbsp;&nbsp;&nbsp;&nbsp;&nbsp;`do_something_else()`<br>\n",
    "`else:`<br>\n",
    "&nbsp;&nbsp;&nbsp;&nbsp;&nbsp;&nbsp;&nbsp;`catch_all()`\n",
    "\n",
    "In general some of the conditions you may want to check are as follows:\n",
    "- if values are equal: ==\n",
    "- if values are not eqaul: !=\n",
    "- if values are greater than or greater than and equal: > or >=\n",
    "- if values are less that or less than and equal: < or <=\n",
    "- if a value appears in a list of string: in \n"
   ]
  },
  {
   "cell_type": "code",
   "execution_count": null,
   "metadata": {},
   "outputs": [],
   "source": [
    "x = 0\n",
    "\n",
    "# use if else statments to test if a value is positive, negative, or zero\n",
    "\n",
    "# if x is greater than 0\n",
    "\n",
    "# if x is less than 0\n",
    "\n",
    "# if x = 0\n",
    "\n",
    "\n"
   ]
  },
  {
   "cell_type": "markdown",
   "metadata": {},
   "source": [
    "Also if you're checking multiple conditions at once you may use the `and` operator and the `or` operator. We could also use the `not` operator."
   ]
  },
  {
   "cell_type": "code",
   "execution_count": null,
   "metadata": {},
   "outputs": [],
   "source": [
    "# testing variables\n",
    "y = \"hello\"\n",
    "y2 = \"hat\"\n",
    "\n",
    "# check if h and o are in the variable\n",
    "\n",
    "# check if h or o are in the variable\n",
    "\n",
    "# check if o is not in the word\n"
   ]
  },
  {
   "cell_type": "markdown",
   "metadata": {},
   "source": [
    "You may also want to combine booleans with if statements. This could be particulary useful if you want to use the same conditional check multiple times."
   ]
  },
  {
   "cell_type": "code",
   "execution_count": null,
   "metadata": {},
   "outputs": [],
   "source": [
    "new_bool = True\n",
    "\n",
    "# using ==\n",
    "\n",
    "    \n",
    "# without ==\n"
   ]
  },
  {
   "cell_type": "markdown",
   "metadata": {},
   "source": [
    "### Back to loops\n",
    "\n",
    "Let's try out a while loop below!"
   ]
  },
  {
   "cell_type": "code",
   "execution_count": null,
   "metadata": {},
   "outputs": [],
   "source": [
    "# value\n",
    "new_value = 0\n",
    "\n",
    "# while new_value is less than or equal to 60 continue\n",
    "# condition\n",
    "\n",
    "    # print output\n",
    "\n",
    "    # updating value"
   ]
  },
  {
   "cell_type": "markdown",
   "metadata": {},
   "source": [
    "We can also combine conditional statement with loops. Let's use a for loop to iteratate through list1 again, but this time only print out values that are less than 25."
   ]
  },
  {
   "cell_type": "code",
   "execution_count": null,
   "metadata": {},
   "outputs": [],
   "source": [
    "# we'll start with a for loop\n",
    "    \n",
    "    # add conditional statement and then print"
   ]
  },
  {
   "cell_type": "markdown",
   "metadata": {},
   "source": [
    "Now try it for yourself. In the below code cell, complete the following tasks:\n",
    "- create a variable called 'counter' and set it to 0\n",
    "- write a while loop that continues until 'counter' is greater than 10\n",
    "- within the while loop print out 'counter', but only once 'counter' is greater than 5\n",
    " "
   ]
  },
  {
   "cell_type": "code",
   "execution_count": null,
   "metadata": {},
   "outputs": [],
   "source": [
    "# creater counter\n",
    "counter = \n",
    "\n",
    "# while loop\n",
    "while counter ____: # what condition needs to be met to stop?\n",
    "\n",
    "    # print counter once it's greater than 5\n",
    "\n",
    "    # how will the condition in the while statement be met\n",
    "    \n"
   ]
  },
  {
   "cell_type": "markdown",
   "metadata": {},
   "source": [
    "## Dictionaries\n",
    "***\n",
    "\n",
    "Another important data structure in Python are `dictionaries`. They are useful for mapping different pieces of information together. Dictionaries are made of key-value pairs and are defined using `{}` and `:` to separate the key value pairs. They generally look like this <br> `dictionary = {key 1: value 1, key 2 : value 2}`  \n",
    "\n",
    "You use `[]` to access the value of a specific key in a dictionary like this `dictionary[key]`."
   ]
  },
  {
   "cell_type": "code",
   "execution_count": null,
   "metadata": {},
   "outputs": [],
   "source": [
    "# dictionary of people and ages\n",
    "dict1 = {'Sarah': 25, 'Joe' : 27, 'Tori' : 26}\n",
    "print(dict1)\n",
    "\n",
    "print(\"Sarah is\", dict1['Sarah'], \"years old.\")\n"
   ]
  },
  {
   "cell_type": "markdown",
   "metadata": {},
   "source": [
    "Once a dictionary is created, you can add new entries as folows: `dictionary[new_key] = new_value`. You could also use the `.update()` function as follows: `dictionary.update({new_key : new_value})`. When creating a dictionary, each key must be unique. If you try to add a new entry with a pre-existing key, you will only update that entry. "
   ]
  },
  {
   "cell_type": "code",
   "execution_count": null,
   "metadata": {},
   "outputs": [],
   "source": [
    "# recreate dictionary of people and ages and print it out \n",
    "\n",
    "\n",
    "\n",
    "# adding a new entry using [] notation\n",
    "dict1['Michael'] = 25\n",
    "\n",
    "# adding a new entry using .update function\n",
    "\n",
    "\n",
    "# print updated output\n",
    "\n"
   ]
  },
  {
   "cell_type": "markdown",
   "metadata": {},
   "source": [
    "What happens if you try to add a new value that has the same key an a pre-existing entry? Since keys must be unique this will only update the pre-existing entry. "
   ]
  },
  {
   "cell_type": "code",
   "execution_count": null,
   "metadata": {},
   "outputs": [],
   "source": [
    "# try adding another Sarah key with the age of 26\n",
    "\n"
   ]
  },
  {
   "cell_type": "markdown",
   "metadata": {},
   "source": [
    "You can also iterate through dictionaries with for loops. To do so, you will need to call one of these built-in functions: `.keys()` (iterate through the keys), `.values()` (iterate through the values), `.items()` (iterate through both keys and values). If you use the `.items()` function, it will return a tuple of the key-value pair. It's basic structure looks like this <br>\n",
    "\n",
    "`for key, value in dictionary.items():` <br>\n",
    "&nbsp;&nbsp;&nbsp;&nbsp;&nbsp;&nbsp;&nbsp;`print(key, \":\", value)`"
   ]
  },
  {
   "cell_type": "code",
   "execution_count": null,
   "metadata": {},
   "outputs": [],
   "source": [
    "# dictionary of people and ages\n",
    "dict1 = {'Sarah': 25, 'Joe' : 27, 'Tori' : 26}\n",
    "\n",
    "# iterate through just the keys\n",
    "\n",
    "\n",
    "# iterate through just the values\n"
   ]
  },
  {
   "cell_type": "markdown",
   "metadata": {},
   "source": [
    "Iterating through just the keys or just the values, looks very similar to when we looped through a list. That is because the `keys()` and `values()` fucntions return a list. If we want to access both the keys and values, we need to use the `items()` function which will return both the key and value as a list of tuples."
   ]
  },
  {
   "cell_type": "code",
   "execution_count": null,
   "metadata": {},
   "outputs": [],
   "source": [
    "# object returned from .keys()\n",
    "print(dict1.keys())\n",
    "\n",
    "# object returned from .items()\n",
    "print(dict1.items())"
   ]
  },
  {
   "cell_type": "markdown",
   "metadata": {},
   "source": [
    "Now that we understand the differences in structure, let's try iterating using the output from `.items()`"
   ]
  },
  {
   "cell_type": "code",
   "execution_count": null,
   "metadata": {},
   "outputs": [],
   "source": [
    "# iterate through the keys and values\n"
   ]
  },
  {
   "cell_type": "markdown",
   "metadata": {},
   "source": [
    "Dictionaries are paritcularly cool because you can nest information together. For example, we could expand our dict1 dictionary to contain additional information on our individuals such as city of residance and contact information."
   ]
  },
  {
   "cell_type": "code",
   "execution_count": null,
   "metadata": {},
   "outputs": [],
   "source": [
    "# dictionary of dictionaries\n",
    "dict1_v2 = {'Sarah': {'age' : 25, 'city' : \"Charlottesville\", 'phone_number' : ['540-123-2345', '434-987-8765']}, \n",
    "            'Joe' : {'age' : 27, 'city' : \"Richmond\", 'phone_number' : ['123-345-5467']}, \n",
    "            'Tori' : {'age' : 26, 'city' : \"Staunton\", \"phone_number\": ['456-678-9823']}}\n",
    "\n",
    "# how to access info in nexted dictionary\n",
    "\n",
    "# first iterate through the keys\n",
    "\n",
    "    \n",
    "    # just pull out the city attribute using bracket notation\n",
    "    \n",
    "    # print output\n",
    "\n",
    "\n"
   ]
  },
  {
   "cell_type": "code",
   "execution_count": null,
   "metadata": {},
   "outputs": [],
   "source": [
    "# dictionary of dictionaries\n",
    "dict1_v2 = {'Sarah': {'age' : 25, 'city' : \"Charlottesville\", 'phone_number' : ['540-123-2345', '434-987-8765']}, \n",
    "            'Joe' : {'age' : 27, 'city' : \"Richmond\", 'phone_number' : ['123-345-5467']}, \n",
    "            'Tori' : {'age' : 26, 'city' : \"Staunton\", \"phone_number\": ['456-678-9823']}}\n",
    "\n",
    "# if you try to access a key that doesn't exist you will get a KeyError message \n",
    "dict1_v2['Age']\n",
    "\n",
    "# if you want to avoid these error messages you can use the .get() method instead\n",
    "# instead it will return None\n"
   ]
  },
  {
   "cell_type": "markdown",
   "metadata": {},
   "source": [
    "Now try it for yourself. In the below code cell, complete the following tasks:\n",
    "- Iterate through dict1_v2 and print out the phone-numbers asociated with each name\n",
    "- Can you also get the count of the number of phone-numbers?\n",
    " "
   ]
  },
  {
   "cell_type": "code",
   "execution_count": null,
   "metadata": {},
   "outputs": [],
   "source": [
    "# fill in the code below\n"
   ]
  },
  {
   "cell_type": "markdown",
   "metadata": {},
   "source": [
    "## Functions\n",
    "***\n",
    "\n",
    "Functions are a way to write reusable code. We have already been using functions above like the `print()` function. Typically you call a function with the function name followed by `()`. There are numerous built-in functions already in Python. We'll use a few below. You can see more built in function options here: https://www.w3schools.com/python/python_ref_functions.asp"
   ]
  },
  {
   "cell_type": "code",
   "execution_count": null,
   "metadata": {},
   "outputs": [],
   "source": [
    "# creating a list\n",
    "list1 = [10, 20, 30, 40]\n",
    "\n",
    "# calculate the sum of list1\n",
    "\n",
    "\n",
    "# calculate the max of list1\n",
    "\n"
   ]
  },
  {
   "cell_type": "markdown",
   "metadata": {},
   "source": [
    "Not only can you use functions to summarize lists, but you can also use them to sort lists as well. One option to do this is with the `sorted()` function. "
   ]
  },
  {
   "cell_type": "code",
   "execution_count": null,
   "metadata": {},
   "outputs": [],
   "source": [
    "# create a new list of unorderd numbers\n",
    "\n",
    "\n",
    "# this does not automatically save those changes\n",
    "\n",
    "# save into a new object\n"
   ]
  },
  {
   "cell_type": "markdown",
   "metadata": {},
   "source": [
    "Not only can you use built-in functions, but you can also write your own. To write a function, you use the `def` keyword followed by the name of your function. It will typically look like this:\n",
    "\n",
    "`def your_function(arguments):`<br>\n",
    "&nbsp;&nbsp;&nbsp;&nbsp;&nbsp;&nbsp;&nbsp;`some code` <br>\n",
    "&nbsp;&nbsp;&nbsp;&nbsp;&nbsp;&nbsp;&nbsp;`return something` <br>\n",
    "\n",
    "We can turn our conditional statement from above into a function."
   ]
  },
  {
   "cell_type": "code",
   "execution_count": null,
   "metadata": {},
   "outputs": [],
   "source": [
    "# create function\n",
    "\n",
    "    \n",
    "# call function\n"
   ]
  },
  {
   "cell_type": "markdown",
   "metadata": {},
   "source": [
    "Another simple function to add 5 to a number:"
   ]
  },
  {
   "cell_type": "code",
   "execution_count": null,
   "metadata": {},
   "outputs": [],
   "source": [
    "# fill in function\n",
    "def add_5 (number):\n",
    "    \n",
    "# call function\n"
   ]
  },
  {
   "cell_type": "markdown",
   "metadata": {},
   "source": [
    "Now try it for yourself. In the below code cell, complete the following tasks:\n",
    "- write a function named 'hello' that takes a name as an agrument and prints out 'Hello name!'\n",
    "- test your function with your name"
   ]
  },
  {
   "cell_type": "code",
   "execution_count": null,
   "metadata": {},
   "outputs": [],
   "source": [
    "def hello(): # don't forget to add the argument\n",
    "    print()\n",
    "    "
   ]
  },
  {
   "cell_type": "markdown",
   "metadata": {},
   "source": [
    "***\n",
    "## Mad Libs\n",
    "Let's generate some Mad Libs! \n",
    "\n",
    "We'll need to do the following things:\n",
    "- Select a random template from MADLIB_TEMPLATES (Hint: Use `random.randint` function)\n",
    "- Replace all the word place holders with a word from the appropriate list\n",
    "   - Interate through the WORD_MAP dictionary and while the place holders still exist replace them (Hint: Use the `.replace()` function)\n",
    "   - Will need to select a random word from the appropriate lsit  \n",
    "- Continue until all the words have been replaced"
   ]
  },
  {
   "cell_type": "code",
   "execution_count": null,
   "metadata": {},
   "outputs": [],
   "source": [
    "# import random\n",
    "import random\n",
    "\n",
    "# Templates (short, some with multiple nouns/adjectives/verbs)\n",
    "MADLIB_TEMPLATES = [\n",
    "    \"Today I saw a {adj} {noun} trying to {verb} in the {place}.\",\n",
    "    \"The {adj} {animal} wanted to {verb} with the {adj} {noun}.\",\n",
    "    \"At the {place}, a {noun} and a {animal} both tried to {verb}.\",\n",
    "    \"I found a {adj} {noun} and a {adj} {animal} hiding in the {place}.\",\n",
    "    \"Yesterday, the {adj} {noun} decided to {verb} next to the {adj} {place}.\",\n",
    "]\n",
    "# Word lists\n",
    "NOUNS = [\"dog\", \"robot\", \"wizard\", \"sandwich\", \"book\", \"dragon\"]\n",
    "ADJECTIVES = [\"silly\", \"ancient\", \"sparkly\", \"loud\", \"slimy\", \"happy\"]\n",
    "VERBS = [\"run\", \"dance\", \"jump\", \"eat\", \"sing\", \"hide\"]\n",
    "PLACES = [\"park\", \"library\", \"castle\", \"school\", \"forest\", \"zoo\"]\n",
    "ANIMALS = [\"elephant\", \"giraffe\", \"tiger\", \"penguin\", \"hamster\", \"unicorn\"]\n",
    "\n",
    "# Mapping placeholders → word lists\n",
    "WORD_MAP = {\n",
    "    \"{noun}\": NOUNS,\n",
    "    \"{adj}\": ADJECTIVES,\n",
    "    \"{verb}\": VERBS,\n",
    "    \"{place}\": PLACES,\n",
    "    \"{animal}\": ANIMALS,\n",
    "}\n",
    "\n",
    "# Generate a random index to select from MADLIB_Templates\n",
    "# How can you find the max index you can use?\n",
    "temp_index = \n",
    "\n",
    "# Select your template\n",
    "template = \n",
    "\n",
    "# Iterate through WORD_MAP \n",
    "\n",
    "        # While the place holders are still in the template\n",
    " \n",
    "            # Generate a random index from your matching word list\n",
    "            word_index =\n",
    "            # Select your word\n",
    "            word = \n",
    "            # Replace the place holder with your word:  .replace()\n",
    "            # Remember you need an ending condition\n",
    "            template = \n",
    "\n",
    "\n",
    "# print out the updated template\n",
    "print(template)\n",
    "\n",
    "\n",
    "###################################################################\n",
    "# What if you wanted to provide your own imput\n",
    "# You can use the input() function to prompt the user for input"
   ]
  },
  {
   "cell_type": "markdown",
   "metadata": {},
   "source": [
    "### What if we asked GenAI?\n",
    "Prompt: write a python script to make a mad libs game"
   ]
  },
  {
   "cell_type": "code",
   "execution_count": 2,
   "metadata": {},
   "outputs": [
    {
     "name": "stdin",
     "output_type": "stream",
     "text": [
      "Enter a word for 'adjective':  hot\n",
      "Enter a word for 'adjective':  green\n",
      "Enter a word for 'noun':  car\n",
      "Enter a word for 'verb':  run\n"
     ]
    },
    {
     "name": "stdout",
     "output_type": "stream",
     "text": [
      "\n",
      "Here's your Mad Libs story:\n",
      "A hot and hot car was seen run near the lake.\n"
     ]
    }
   ],
   "source": [
    "import random\n",
    "import re\n",
    "from collections import Counter\n",
    "\n",
    "# Define diverse templates with varied placeholders\n",
    "templates = [\n",
    "    \"The {adjective} {noun} likes to {verb} every morning.\",\n",
    "    \"A {adjective} and {adjective} {noun} was seen {verb} near the lake.\",\n",
    "    \"Yesterday, my {noun} decided to {verb} without telling anyone.\",\n",
    "    \"It was a {adjective} day when the {noun} started to {verb}.\",\n",
    "    \"My {noun} is not only {adjective} but also {adjective}, and it can {verb} really well.\"\n",
    "]\n",
    "\n",
    "# Randomly select a template\n",
    "selected_template = random.choice(templates)\n",
    "\n",
    "# Find all placeholders in the selected template\n",
    "placeholders = re.findall(r\"{(.*?)}\", selected_template)\n",
    "\n",
    "# Count how many times each placeholder appears\n",
    "placeholder_counts = Counter(placeholders)\n",
    "\n",
    "# Prompt user for each required word type\n",
    "user_words = {}\n",
    "for placeholder, count in placeholder_counts.items():\n",
    "    for i in range(count):\n",
    "        key = f\"{placeholder}_{i}\" if count > 1 else placeholder\n",
    "        user_input = input(f\"Enter a word for '{placeholder}': \")\n",
    "        user_words[key] = user_input\n",
    "\n",
    "# Replace repeated placeholders with indexed keys\n",
    "for i in range(len(placeholders)):\n",
    "    if placeholder_counts[placeholders[i]] > 1:\n",
    "        placeholders[i] = f\"{placeholders[i]}_{sum(placeholders[:i].count(placeholders[i]) for i in range(i+1))}\"\n",
    "\n",
    "# Create a mapping from indexed placeholders to user inputs\n",
    "formatted_template = selected_template\n",
    "for i, ph in enumerate(re.findall(r\"{(.*?)}\", selected_template)):\n",
    "    if placeholder_counts[ph] > 1:\n",
    "        formatted_template = formatted_template.replace(f\"{{{ph}}}\", f\"{{{ph}_{sum(placeholders[:i].count(ph) for i in range(i+1))}}}\", 1)\n",
    "\n",
    "# Fill in the template\n",
    "completed_story = formatted_template.format(**user_words)\n",
    "\n",
    "# Display the completed story\n",
    "print(\"\\nHere's your Mad Libs story:\")\n",
    "print(completed_story)\n"
   ]
  },
  {
   "cell_type": "markdown",
   "metadata": {},
   "source": [
    "### Pros and cons of using GenAI for programming according to Copilot\n",
    "#### Pros:\n",
    "\n",
    "1. Productivity: Speeds up coding tasks and reduces manual effort.\n",
    "2. **Learning**: Helps understand concepts and provides examples.\n",
    "3. **Code Quality**: Suggests cleaner, more efficient code.\n",
    "4. **Language Support**: Assists across many programming languages.\n",
    "5. Creativity: Offers new ideas and alternative solutions.\n",
    "6. Tool Integration: Works well with IDEs and development tools.\n",
    "\n",
    "#### Cons:\n",
    "\n",
    "1. **Incorrect Code**: May generate buggy or insecure code.\n",
    "2. Limited Context: Doesn’t fully grasp your project’s specifics.\n",
    "3. **Over-Reliance**: Can weaken problem-solving skills.\n",
    "4. **Privacy Risks**: Sharing code with AI tools may expose data.\n",
    "5. Debugging Limits: Fixes symptoms, not root causes.\n",
    "6. Legal Issues: Risk of using copyrighted or unlicensed code.\n",
    "\n",
    "In summary, using GenAI for programming tasks can be beneficial for certain aspects, but users should approach it with a cautious and discerning mindset. It's most effective when used as a supplementary tool alongside other learning resources and a hands-on coding environment."
   ]
  },
  {
   "cell_type": "markdown",
   "metadata": {},
   "source": [
    "## Extra if time\n",
    "***\n",
    "\n",
    "Above we saw how to access items in a list by using `[]` notation. We also saw how we could use `:` to slice the list and return multiple values. But what if we wanted to return multiple items that weren't next to each other?"
   ]
  },
  {
   "cell_type": "code",
   "execution_count": null,
   "metadata": {},
   "outputs": [],
   "source": [
    "extra_list = [1, 3, 4, 7, 9, 10]\n",
    "\n",
    "# if we wanted to take the first three items we could use the slice\n",
    "\n",
    "\n",
    "# but what if we wanted the evens, 4 and 10?\n",
    "# there's actually not a super easy way to do this."
   ]
  },
  {
   "cell_type": "markdown",
   "metadata": {},
   "source": [
    "We could use a for loop."
   ]
  },
  {
   "cell_type": "code",
   "execution_count": null,
   "metadata": {},
   "outputs": [],
   "source": [
    "# output list to save numbers\n",
    "saved_nums =[]\n",
    "\n",
    "# iterate through list\n",
    "for num in extra_list:\n",
    "    #the % operator returns the remainder\n",
    "        # how do we add numbers to a list?\n",
    "        \n",
    "\n",
    "saved_nums\n",
    "    \n",
    "    "
   ]
  },
  {
   "cell_type": "markdown",
   "metadata": {},
   "source": [
    "That works, but for loops can be a little bit clunky. You can try a list comprehension instead. It's a shortened syntax that allows you to create a new list on a pre-exising list. List comprehensions are also often faster than for loops. The syntax looks like this `new_list = [item for item in old_list if some condition]`"
   ]
  },
  {
   "cell_type": "code",
   "execution_count": null,
   "metadata": {},
   "outputs": [],
   "source": [
    "# re-write the above code with a list comprehension\n",
    "saved_nums = \n",
    "saved_nums"
   ]
  },
  {
   "cell_type": "markdown",
   "metadata": {},
   "source": [
    "Now you try, but this time select only odd numbers."
   ]
  },
  {
   "cell_type": "code",
   "execution_count": null,
   "metadata": {},
   "outputs": [],
   "source": [
    "# create a list comprehension that selects odd numbers from extra_list\n"
   ]
  },
  {
   "cell_type": "markdown",
   "metadata": {},
   "source": [
    "You can also do a similar thing with dictionaries."
   ]
  },
  {
   "cell_type": "code",
   "execution_count": null,
   "metadata": {},
   "outputs": [],
   "source": [
    "# quickly make a new dictionary where all the values have been multiplied by 2\n",
    "dict1 = {'a': 1, 'b': 2, 'c': 3, 'd': 4, 'e': 5}\n",
    "# Double each value in the dictionary\n"
   ]
  },
  {
   "cell_type": "markdown",
   "metadata": {},
   "source": [
    "Now you try, update the above code so that the new dictionary only contains values less than or equal to 6."
   ]
  },
  {
   "cell_type": "code",
   "execution_count": null,
   "metadata": {},
   "outputs": [],
   "source": [
    "# Your turn\n",
    "\n"
   ]
  }
 ],
 "metadata": {
  "kernelspec": {
   "display_name": "py_workshops_3_13",
   "language": "python",
   "name": "py_workshops_3_13"
  },
  "language_info": {
   "codemirror_mode": {
    "name": "ipython",
    "version": 3
   },
   "file_extension": ".py",
   "mimetype": "text/x-python",
   "name": "python",
   "nbconvert_exporter": "python",
   "pygments_lexer": "ipython3",
   "version": "3.13.5"
  }
 },
 "nbformat": 4,
 "nbformat_minor": 4
}
